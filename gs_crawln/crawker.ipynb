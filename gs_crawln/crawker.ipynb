{
 "cells": [
  {
   "cell_type": "code",
   "execution_count": 1,
   "id": "initial_id",
   "metadata": {
    "collapsed": true,
    "ExecuteTime": {
     "end_time": "2023-11-17T22:44:07.740167Z",
     "start_time": "2023-11-17T22:44:06.248439Z"
    }
   },
   "outputs": [
    {
     "name": "stderr",
     "output_type": "stream",
     "text": [
      "/Users/hyunwonch/PycharmProjects/gs_crawln/venv/lib/python3.9/site-packages/urllib3/__init__.py:34: NotOpenSSLWarning: urllib3 v2 only supports OpenSSL 1.1.1+, currently the 'ssl' module is compiled with 'LibreSSL 2.8.3'. See: https://github.com/urllib3/urllib3/issues/3020\n",
      "  warnings.warn(\n"
     ]
    }
   ],
   "source": [
    "from scholarly import scholarly\n",
    "from scholarly import ProxyGenerator\n",
    "import os\n",
    "import csv"
   ]
  },
  {
   "cell_type": "code",
   "execution_count": 2,
   "outputs": [],
   "source": [
    "# Activates proxy because Google Scholar otherwise might block the IP address\n",
    "pg = ProxyGenerator()\n",
    "scholarly.use_proxy(pg, pg)"
   ],
   "metadata": {
    "collapsed": false,
    "ExecuteTime": {
     "end_time": "2023-11-17T22:44:10.025544Z",
     "start_time": "2023-11-17T22:44:09.963696Z"
    }
   },
   "id": "25c0d86e06feaa92"
  },
  {
   "cell_type": "code",
   "execution_count": null,
   "outputs": [],
   "source": [],
   "metadata": {
    "collapsed": false
   },
   "id": "985ae97713a6d9b2"
  },
  {
   "cell_type": "code",
   "execution_count": null,
   "outputs": [],
   "source": [],
   "metadata": {
    "collapsed": false
   },
   "id": "c2b7f45b4d25f44"
  },
  {
   "cell_type": "code",
   "execution_count": null,
   "outputs": [],
   "source": [],
   "metadata": {
    "collapsed": false
   },
   "id": "3f2ca5124d76f3e4"
  },
  {
   "cell_type": "code",
   "execution_count": 3,
   "outputs": [],
   "source": [
    "# This list contains the names of all faculty members who's Google Scholar profiles should be scraped.\n",
    "# Make sure that the authors have a Google Scholar profile.\n",
    "# It is important that the names exactly match the name listed on the respective Google Scholar profile.\n",
    "\n",
    "author_names = ['David Blaauw']"
   ],
   "metadata": {
    "collapsed": false,
    "ExecuteTime": {
     "end_time": "2023-11-17T22:44:19.108925Z",
     "start_time": "2023-11-17T22:44:19.053073Z"
    }
   },
   "id": "7b312aaa61067985"
  },
  {
   "cell_type": "code",
   "execution_count": 5,
   "outputs": [
    {
     "ename": "MaxTriesExceededException",
     "evalue": "Cannot Fetch from Google Scholar.",
     "output_type": "error",
     "traceback": [
      "\u001B[0;31m---------------------------------------------------------------------------\u001B[0m",
      "\u001B[0;31mMaxTriesExceededException\u001B[0m                 Traceback (most recent call last)",
      "Cell \u001B[0;32mIn[5], line 27\u001B[0m\n\u001B[1;32m     25\u001B[0m     i \u001B[38;5;241m+\u001B[39m\u001B[38;5;241m=\u001B[39m \u001B[38;5;241m1\u001B[39m\n\u001B[1;32m     26\u001B[0m     \u001B[38;5;28;01mcontinue\u001B[39;00m\n\u001B[0;32m---> 27\u001B[0m pub \u001B[38;5;241m=\u001B[39m \u001B[43mscholarly\u001B[49m\u001B[38;5;241;43m.\u001B[39;49m\u001B[43mfill\u001B[49m\u001B[43m(\u001B[49m\u001B[43mpub\u001B[49m\u001B[43m)\u001B[49m\n\u001B[1;32m     28\u001B[0m \u001B[38;5;28;01mif\u001B[39;00m \u001B[38;5;28mlen\u001B[39m([x \u001B[38;5;28;01mfor\u001B[39;00m x \u001B[38;5;129;01min\u001B[39;00m author_pubs_in_file \u001B[38;5;28;01mif\u001B[39;00m x[\u001B[38;5;124m'\u001B[39m\u001B[38;5;124mtitle\u001B[39m\u001B[38;5;124m'\u001B[39m] \u001B[38;5;241m==\u001B[39m pub[\u001B[38;5;124m'\u001B[39m\u001B[38;5;124mbib\u001B[39m\u001B[38;5;124m'\u001B[39m][\u001B[38;5;124m'\u001B[39m\u001B[38;5;124mtitle\u001B[39m\u001B[38;5;124m'\u001B[39m]]) \u001B[38;5;241m>\u001B[39m \u001B[38;5;241m0\u001B[39m : \u001B[38;5;28;01mcontinue\u001B[39;00m\n\u001B[1;32m     29\u001B[0m pub_res \u001B[38;5;241m=\u001B[39m {\n\u001B[1;32m     30\u001B[0m     \u001B[38;5;124m\"\u001B[39m\u001B[38;5;124mauthor\u001B[39m\u001B[38;5;124m\"\u001B[39m:name,\n\u001B[1;32m     31\u001B[0m     \u001B[38;5;124m\"\u001B[39m\u001B[38;5;124mtitle\u001B[39m\u001B[38;5;124m\"\u001B[39m:pub[\u001B[38;5;124m'\u001B[39m\u001B[38;5;124mbib\u001B[39m\u001B[38;5;124m'\u001B[39m][\u001B[38;5;124m'\u001B[39m\u001B[38;5;124mtitle\u001B[39m\u001B[38;5;124m'\u001B[39m],\n\u001B[1;32m     32\u001B[0m     \u001B[38;5;124m\"\u001B[39m\u001B[38;5;124mnum_citations\u001B[39m\u001B[38;5;124m\"\u001B[39m:pub[\u001B[38;5;124m'\u001B[39m\u001B[38;5;124mnum_citations\u001B[39m\u001B[38;5;124m'\u001B[39m],\n\u001B[1;32m     33\u001B[0m     }\n",
      "File \u001B[0;32m~/PycharmProjects/gs_crawln/venv/lib/python3.9/site-packages/scholarly/_scholarly.py:238\u001B[0m, in \u001B[0;36m_Scholarly.fill\u001B[0;34m(self, object, sections, sortby, publication_limit)\u001B[0m\n\u001B[1;32m    236\u001B[0m \u001B[38;5;28;01melif\u001B[39;00m \u001B[38;5;28mobject\u001B[39m[\u001B[38;5;124m'\u001B[39m\u001B[38;5;124mcontainer_type\u001B[39m\u001B[38;5;124m'\u001B[39m] \u001B[38;5;241m==\u001B[39m \u001B[38;5;124m\"\u001B[39m\u001B[38;5;124mPublication\u001B[39m\u001B[38;5;124m\"\u001B[39m:\n\u001B[1;32m    237\u001B[0m     publication_parser \u001B[38;5;241m=\u001B[39m PublicationParser(\u001B[38;5;28mself\u001B[39m\u001B[38;5;241m.\u001B[39m__nav)\n\u001B[0;32m--> 238\u001B[0m     \u001B[38;5;28mobject\u001B[39m \u001B[38;5;241m=\u001B[39m \u001B[43mpublication_parser\u001B[49m\u001B[38;5;241;43m.\u001B[39;49m\u001B[43mfill\u001B[49m\u001B[43m(\u001B[49m\u001B[38;5;28;43mobject\u001B[39;49m\u001B[43m)\u001B[49m\n\u001B[1;32m    239\u001B[0m \u001B[38;5;28;01mreturn\u001B[39;00m \u001B[38;5;28mobject\u001B[39m\n",
      "File \u001B[0;32m~/PycharmProjects/gs_crawln/venv/lib/python3.9/site-packages/scholarly/publication_parser.py:278\u001B[0m, in \u001B[0;36mPublicationParser.fill\u001B[0;34m(self, publication)\u001B[0m\n\u001B[1;32m    276\u001B[0m \u001B[38;5;28;01mif\u001B[39;00m publication[\u001B[38;5;124m'\u001B[39m\u001B[38;5;124msource\u001B[39m\u001B[38;5;124m'\u001B[39m] \u001B[38;5;241m==\u001B[39m PublicationSource\u001B[38;5;241m.\u001B[39mAUTHOR_PUBLICATION_ENTRY:\n\u001B[1;32m    277\u001B[0m     url \u001B[38;5;241m=\u001B[39m _CITATIONPUB\u001B[38;5;241m.\u001B[39mformat(publication[\u001B[38;5;124m'\u001B[39m\u001B[38;5;124mauthor_pub_id\u001B[39m\u001B[38;5;124m'\u001B[39m])\n\u001B[0;32m--> 278\u001B[0m     soup \u001B[38;5;241m=\u001B[39m \u001B[38;5;28;43mself\u001B[39;49m\u001B[38;5;241;43m.\u001B[39;49m\u001B[43mnav\u001B[49m\u001B[38;5;241;43m.\u001B[39;49m\u001B[43m_get_soup\u001B[49m\u001B[43m(\u001B[49m\u001B[43murl\u001B[49m\u001B[43m)\u001B[49m\n\u001B[1;32m    279\u001B[0m     publication[\u001B[38;5;124m'\u001B[39m\u001B[38;5;124mbib\u001B[39m\u001B[38;5;124m'\u001B[39m][\u001B[38;5;124m'\u001B[39m\u001B[38;5;124mtitle\u001B[39m\u001B[38;5;124m'\u001B[39m] \u001B[38;5;241m=\u001B[39m soup\u001B[38;5;241m.\u001B[39mfind(\u001B[38;5;124m'\u001B[39m\u001B[38;5;124mdiv\u001B[39m\u001B[38;5;124m'\u001B[39m, \u001B[38;5;28mid\u001B[39m\u001B[38;5;241m=\u001B[39m\u001B[38;5;124m'\u001B[39m\u001B[38;5;124mgsc_oci_title\u001B[39m\u001B[38;5;124m'\u001B[39m)\u001B[38;5;241m.\u001B[39mtext\n\u001B[1;32m    280\u001B[0m     \u001B[38;5;28;01mif\u001B[39;00m publication[\u001B[38;5;124m'\u001B[39m\u001B[38;5;124mbib\u001B[39m\u001B[38;5;124m'\u001B[39m][\u001B[38;5;124m'\u001B[39m\u001B[38;5;124mtitle\u001B[39m\u001B[38;5;124m'\u001B[39m][\u001B[38;5;241m-\u001B[39m\u001B[38;5;241m1\u001B[39m] \u001B[38;5;241m==\u001B[39m \u001B[38;5;124m'\u001B[39m\u001B[38;5;130;01m\\u2026\u001B[39;00m\u001B[38;5;124m'\u001B[39m:\n",
      "File \u001B[0;32m~/PycharmProjects/gs_crawln/venv/lib/python3.9/site-packages/scholarly/_navigator.py:239\u001B[0m, in \u001B[0;36mNavigator._get_soup\u001B[0;34m(self, url)\u001B[0m\n\u001B[1;32m    237\u001B[0m \u001B[38;5;28;01mdef\u001B[39;00m \u001B[38;5;21m_get_soup\u001B[39m(\u001B[38;5;28mself\u001B[39m, url: \u001B[38;5;28mstr\u001B[39m) \u001B[38;5;241m-\u001B[39m\u001B[38;5;241m>\u001B[39m BeautifulSoup:\n\u001B[1;32m    238\u001B[0m \u001B[38;5;250m    \u001B[39m\u001B[38;5;124;03m\"\"\"Return the BeautifulSoup for a page on scholar.google.com\"\"\"\u001B[39;00m\n\u001B[0;32m--> 239\u001B[0m     html \u001B[38;5;241m=\u001B[39m \u001B[38;5;28;43mself\u001B[39;49m\u001B[38;5;241;43m.\u001B[39;49m\u001B[43m_get_page\u001B[49m\u001B[43m(\u001B[49m\u001B[38;5;124;43m'\u001B[39;49m\u001B[38;5;124;43mhttps://scholar.google.com\u001B[39;49m\u001B[38;5;132;43;01m{0}\u001B[39;49;00m\u001B[38;5;124;43m'\u001B[39;49m\u001B[38;5;241;43m.\u001B[39;49m\u001B[43mformat\u001B[49m\u001B[43m(\u001B[49m\u001B[43murl\u001B[49m\u001B[43m)\u001B[49m\u001B[43m)\u001B[49m\n\u001B[1;32m    240\u001B[0m     html \u001B[38;5;241m=\u001B[39m html\u001B[38;5;241m.\u001B[39mreplace(\u001B[38;5;124mu\u001B[39m\u001B[38;5;124m'\u001B[39m\u001B[38;5;130;01m\\xa0\u001B[39;00m\u001B[38;5;124m'\u001B[39m, \u001B[38;5;124mu\u001B[39m\u001B[38;5;124m'\u001B[39m\u001B[38;5;124m \u001B[39m\u001B[38;5;124m'\u001B[39m)\n\u001B[1;32m    241\u001B[0m     res \u001B[38;5;241m=\u001B[39m BeautifulSoup(html, \u001B[38;5;124m'\u001B[39m\u001B[38;5;124mhtml.parser\u001B[39m\u001B[38;5;124m'\u001B[39m)\n",
      "File \u001B[0;32m~/PycharmProjects/gs_crawln/venv/lib/python3.9/site-packages/scholarly/_navigator.py:188\u001B[0m, in \u001B[0;36mNavigator._get_page\u001B[0;34m(self, pagerequest, premium)\u001B[0m\n\u001B[1;32m    186\u001B[0m \u001B[38;5;66;03m# If secondary proxy does not work, try again primary proxy.\u001B[39;00m\n\u001B[1;32m    187\u001B[0m \u001B[38;5;28;01mif\u001B[39;00m \u001B[38;5;129;01mnot\u001B[39;00m premium:\n\u001B[0;32m--> 188\u001B[0m     \u001B[38;5;28;01mreturn\u001B[39;00m \u001B[38;5;28;43mself\u001B[39;49m\u001B[38;5;241;43m.\u001B[39;49m\u001B[43m_get_page\u001B[49m\u001B[43m(\u001B[49m\u001B[43mpagerequest\u001B[49m\u001B[43m,\u001B[49m\u001B[43m \u001B[49m\u001B[38;5;28;43;01mTrue\u001B[39;49;00m\u001B[43m)\u001B[49m\n\u001B[1;32m    189\u001B[0m \u001B[38;5;28;01melse\u001B[39;00m:\n\u001B[1;32m    190\u001B[0m     \u001B[38;5;28;01mraise\u001B[39;00m MaxTriesExceededException(\u001B[38;5;124m\"\u001B[39m\u001B[38;5;124mCannot Fetch from Google Scholar.\u001B[39m\u001B[38;5;124m\"\u001B[39m)\n",
      "File \u001B[0;32m~/PycharmProjects/gs_crawln/venv/lib/python3.9/site-packages/scholarly/_navigator.py:190\u001B[0m, in \u001B[0;36mNavigator._get_page\u001B[0;34m(self, pagerequest, premium)\u001B[0m\n\u001B[1;32m    188\u001B[0m     \u001B[38;5;28;01mreturn\u001B[39;00m \u001B[38;5;28mself\u001B[39m\u001B[38;5;241m.\u001B[39m_get_page(pagerequest, \u001B[38;5;28;01mTrue\u001B[39;00m)\n\u001B[1;32m    189\u001B[0m \u001B[38;5;28;01melse\u001B[39;00m:\n\u001B[0;32m--> 190\u001B[0m     \u001B[38;5;28;01mraise\u001B[39;00m MaxTriesExceededException(\u001B[38;5;124m\"\u001B[39m\u001B[38;5;124mCannot Fetch from Google Scholar.\u001B[39m\u001B[38;5;124m\"\u001B[39m)\n",
      "\u001B[0;31mMaxTriesExceededException\u001B[0m: Cannot Fetch from Google Scholar."
     ]
    }
   ],
   "source": [
    "keys = ['author','title','num_citations','number_of_co_authors','pub_year']\n",
    "for year in range(2000,2023): # Creates a column for the citations in each year respectively. Currently, it's from 2000 until 2022. \n",
    "    keys.append(f'{year}') # Define the time span you're interested in by changing the years.\n",
    "\n",
    "output_file =  open('faculty_pubs.csv', 'a', newline='')\n",
    "dict_writer = csv.DictWriter(output_file, keys)\n",
    "if os.path.getsize('faculty_pubs.csv') == 0:\n",
    "    dict_writer.writeheader()\n",
    "    output_file.flush()\n",
    "dict_reader = csv.DictReader(open('faculty_pubs.csv', newline=''), keys)\n",
    "csv_reader = [row for row in dict_reader]\n",
    "\n",
    "\n",
    "\n",
    "for name in author_names:\n",
    "    author = next(scholarly.search_author(name))\n",
    "    author =  scholarly.fill((author),sections = ['publications'])\n",
    "    pubs = author['publications']\n",
    "    author_pubs_in_file = [row for row in csv_reader if row['author'] == name]\n",
    "    num_author_pubs_in_file = len(author_pubs_in_file) \n",
    "    if num_author_pubs_in_file >= len(author['publications']): continue\n",
    "    i = 0\n",
    "    for pub in pubs:\n",
    "        if i < num_author_pubs_in_file: \n",
    "            i += 1\n",
    "            continue\n",
    "        pub = scholarly.fill(pub)\n",
    "        if len([x for x in author_pubs_in_file if x['title'] == pub['bib']['title']]) > 0 : continue\n",
    "        pub_res = {\n",
    "            \"author\":name,\n",
    "            \"title\":pub['bib']['title'],\n",
    "            \"num_citations\":pub['num_citations'],\n",
    "            }\n",
    "\n",
    "        if 'author' in pub['bib']:\n",
    "            pub_res[\"number_of_co_authors\"] = len(pub['bib']['author'].split(' and ')) - 1\n",
    "        else:\n",
    "            pub_res[\"number_of_co_authors\"] = ''\n",
    "\n",
    "        if 'pub_year' in pub['bib']:\n",
    "            pub_res['pub_year'] = pub['bib']['pub_year']\n",
    "        else:\n",
    "            pub_res['pub_year'] = ''\n",
    "        \n",
    "        for year in range(2000,2023):\n",
    "            if year in pub['cites_per_year']:\n",
    "                pub_res[f'{year}'] = pub['cites_per_year'][year]\n",
    "            else:\n",
    "                pub_res[f'{year}'] = ''\n",
    "        \n",
    "        dict_writer.writerows([pub_res])\n",
    "        output_file.flush()"
   ],
   "metadata": {
    "collapsed": false,
    "ExecuteTime": {
     "end_time": "2023-11-17T23:18:26.491432Z",
     "start_time": "2023-11-17T22:45:25.317403Z"
    }
   },
   "id": "78a87bccc21d482a"
  },
  {
   "cell_type": "code",
   "execution_count": 152,
   "outputs": [],
   "source": [
    "# Here starts the code that I wrote"
   ],
   "metadata": {
    "collapsed": false,
    "ExecuteTime": {
     "end_time": "2023-11-18T01:24:44.911551Z",
     "start_time": "2023-11-18T01:24:44.881695Z"
    }
   },
   "id": "36aeddd4fb6781a2"
  },
  {
   "cell_type": "code",
   "execution_count": 153,
   "outputs": [],
   "source": [
    "from selenium import webdriver\n",
    "from selenium.webdriver.chrome.options import Options\n",
    "from selenium.webdriver.support.ui import WebDriverWait\n",
    "from selenium.webdriver.support import expected_conditions as EC\n",
    "from selenium.webdriver.common.by import By\n",
    "import pandas as pd\n",
    "import time"
   ],
   "metadata": {
    "collapsed": false,
    "ExecuteTime": {
     "end_time": "2023-11-18T01:24:46.176292Z",
     "start_time": "2023-11-18T01:24:46.160806Z"
    }
   },
   "id": "eb47864b99e4909b"
  },
  {
   "cell_type": "code",
   "execution_count": 154,
   "outputs": [],
   "source": [
    "chrome_options = webdriver.ChromeOptions()\n",
    "chrome_options.add_experimental_option(\"detach\", True)\n",
    "\n",
    "driver = webdriver.Chrome(options=chrome_options)\n",
    "driver.implicitly_wait(2)\n",
    "\n",
    "search_command = \"Alex Carsello\"\n",
    "url = \"https://scholar.google.com/scholar?hl=en&as_sdt=0%2C23&q=\" + search_command + \"&btnG=\""
   ],
   "metadata": {
    "collapsed": false,
    "ExecuteTime": {
     "end_time": "2023-11-18T01:26:07.076853Z",
     "start_time": "2023-11-18T01:26:04.526550Z"
    }
   },
   "id": "9d3c0a06c09de2ac"
  },
  {
   "cell_type": "code",
   "execution_count": 155,
   "outputs": [],
   "source": [
    "driver.get(url)"
   ],
   "metadata": {
    "collapsed": false,
    "ExecuteTime": {
     "end_time": "2023-11-18T01:26:13.010570Z",
     "start_time": "2023-11-18T01:26:12.361282Z"
    }
   },
   "id": "99018bbc43e38d53"
  },
  {
   "cell_type": "code",
   "execution_count": 156,
   "outputs": [],
   "source": [
    "# Go to actual link that contains list\n",
    "\n",
    "driver.find_element(By.XPATH, '//*[@id=\"gs_res_ccl_mid\"]/div[1]/table/tbody/tr/td[2]/h4/a').click()\n",
    "time.sleep(1)\n",
    "driver.find_element(By.XPATH, '//*[@id=\"gsc_a_ha\"]').click()"
   ],
   "metadata": {
    "collapsed": false,
    "ExecuteTime": {
     "end_time": "2023-11-18T01:26:16.022359Z",
     "start_time": "2023-11-18T01:26:14.185712Z"
    }
   },
   "id": "95bdfe00b0740c53"
  },
  {
   "cell_type": "code",
   "execution_count": 157,
   "outputs": [
    {
     "name": "stdout",
     "output_type": "stream",
     "text": [
      "Show Everything\n"
     ]
    }
   ],
   "source": [
    "#Show more button\n",
    "\n",
    "while(1):\n",
    "    if(driver.find_element(By.XPATH, '//*[@id=\"gsc_bpf_more\"]').get_attribute('disabled')):\n",
    "        break\n",
    "    driver.find_element(By.XPATH, '//*[@id=\"gsc_bpf_more\"]').click()\n",
    "    time.sleep(1)\n",
    "print(\"Show Everything\")"
   ],
   "metadata": {
    "collapsed": false,
    "ExecuteTime": {
     "end_time": "2023-11-18T01:26:17.526380Z",
     "start_time": "2023-11-18T01:26:17.491185Z"
    }
   },
   "id": "4ba3efbf15f63a72"
  },
  {
   "cell_type": "code",
   "execution_count": 158,
   "outputs": [
    {
     "name": "stdout",
     "output_type": "stream",
     "text": [
      "https://scholar.google.com/citations?view_op=view_citation&hl=en&user=7BlVLHkAAAAJ&sortby=pubdate&citation_for_view=7BlVLHkAAAAJ:d1gkVwhDpl0C\n"
     ]
    }
   ],
   "source": [
    "# Get all paper links\n",
    "\n",
    "paper_link_list = []\n",
    "num = 1\n",
    "while(1):\n",
    "    link = '#gsc_a_b > tr:nth-child(' + str(num) + ') > td.gsc_a_t > a'\n",
    "    try:\n",
    "        paper_link = driver.find_elements(By.CSS_SELECTOR, link)[0].get_attribute(\"href\")\n",
    "    except:\n",
    "        break\n",
    "    num += 1\n",
    "    paper_link_list.append(paper_link)\n",
    "\n",
    "len(paper_link_list)\n",
    "print(paper_link_list[0])"
   ],
   "metadata": {
    "collapsed": false,
    "ExecuteTime": {
     "end_time": "2023-11-18T01:26:23.000559Z",
     "start_time": "2023-11-18T01:26:20.857871Z"
    }
   },
   "id": "3a91df7c3296b37a"
  },
  {
   "cell_type": "code",
   "execution_count": 159,
   "outputs": [],
   "source": [
    "# Save the information\n",
    "\n",
    "title_list = []\n",
    "authors_list = []\n",
    "date_list = []\n",
    "journal_list = []\n",
    "\n",
    "stop_year = 2022\n",
    "\n",
    "for i in paper_link_list:\n",
    "    driver.get(i)\n",
    "    title = driver.find_element(By.CLASS_NAME, 'gsc_oci_title_link').text\n",
    "    authors = driver.find_elements(By.CLASS_NAME, 'gsc_oci_value')[0].text\n",
    "    date = driver.find_elements(By.CLASS_NAME, 'gsc_oci_value')[1].text\n",
    "    journal = driver.find_elements(By.CLASS_NAME, 'gsc_oci_value')[2].text\n",
    "    #print(title)\n",
    "    #print(authors)\n",
    "    #print(date)\n",
    "    #print(journal)\n",
    "    if(date.split('/')[0] == stop_year):\n",
    "        break\n",
    "    title_list.append(title)\n",
    "    authors_list.append(authors)\n",
    "    date_list.append(date)\n",
    "    journal_list.append(journal)\n",
    "    time.sleep(5)\n",
    "driver.close()"
   ],
   "metadata": {
    "collapsed": false,
    "ExecuteTime": {
     "end_time": "2023-11-18T01:26:54.043977Z",
     "start_time": "2023-11-18T01:26:27.968425Z"
    }
   },
   "id": "a820e6007cff036d"
  },
  {
   "cell_type": "code",
   "execution_count": 160,
   "outputs": [],
   "source": [
    "new_authors_list = []\n",
    "for i in authors_list:\n",
    "    tmp = i.split(\",\")\n",
    "    tmp_list = []\n",
    "    for j in tmp:\n",
    "        tmp_list.append(\"[[\" + j.strip() + \"]]\")\n",
    "    new_authors_list.append(tmp_list)\n",
    "#print(new_authors_list[0])\n"
   ],
   "metadata": {
    "collapsed": false,
    "ExecuteTime": {
     "end_time": "2023-11-18T01:26:59.690181Z",
     "start_time": "2023-11-18T01:26:59.503937Z"
    }
   },
   "id": "4e1dbc5f63bec92e"
  },
  {
   "cell_type": "code",
   "execution_count": 161,
   "outputs": [
    {
     "name": "stdout",
     "output_type": "stream",
     "text": [
      "Total Length :  5 5\n"
     ]
    }
   ],
   "source": [
    "print(\"Total Length : \",len(title_list), len(new_authors_list))"
   ],
   "metadata": {
    "collapsed": false,
    "ExecuteTime": {
     "end_time": "2023-11-18T01:27:05.873561Z",
     "start_time": "2023-11-18T01:27:05.854281Z"
    }
   },
   "id": "ab28b0fea189137c"
  },
  {
   "cell_type": "code",
   "execution_count": 162,
   "outputs": [
    {
     "name": "stdout",
     "output_type": "stream",
     "text": [
      "./Alex Carsello.txt\n"
     ]
    }
   ],
   "source": [
    "file_name = \"./\" + search_command + \".txt\"\n",
    "print(file_name)\n",
    "file = open(file_name,'w')\n",
    "\n",
    "for i in range(len(title_list)):\n",
    "    if(journal_list[i] == 'US'):\n",
    "        continue\n",
    "    print(date_list[i], file=file)\n",
    "    print(\"[[\", title_list[i], \"]]\", sep='', file=file)\n",
    "    for index, j in enumerate(new_authors_list[i]):\n",
    "        if(index == (len(new_authors_list[i])-1)):\n",
    "            print(j,\"\", sep='', end='\\n', file=file)\n",
    "        else:\n",
    "            print(j,\", \", sep='', end='', file=file)\n",
    "    print(journal_list[i], file=file)\n",
    "    print('-------------------------------------------------------------------------------------------------------------------------', file=file)\n",
    "\n",
    "file.close()"
   ],
   "metadata": {
    "collapsed": false,
    "ExecuteTime": {
     "end_time": "2023-11-18T01:27:07.839315Z",
     "start_time": "2023-11-18T01:27:07.824301Z"
    }
   },
   "id": "c974eab11595d32f"
  },
  {
   "cell_type": "code",
   "execution_count": 123,
   "outputs": [
    {
     "name": "stdout",
     "output_type": "stream",
     "text": [
      "[[Tim Dunn]], [[David Blaauw]], [[Reetuparna Das]], [[Satish Narayanasamy]], "
     ]
    }
   ],
   "source": [
    "for i in new_authors_list[0]:\n",
    "    print(i, sep='', end=', ')"
   ],
   "metadata": {
    "collapsed": false,
    "ExecuteTime": {
     "end_time": "2023-11-18T01:09:51.266274Z",
     "start_time": "2023-11-18T01:09:51.258780Z"
    }
   },
   "id": "34086f9e26894016"
  },
  {
   "cell_type": "code",
   "execution_count": null,
   "outputs": [],
   "source": [],
   "metadata": {
    "collapsed": false
   },
   "id": "7cea5c4a08fd9fc8"
  },
  {
   "cell_type": "code",
   "execution_count": null,
   "outputs": [],
   "source": [
    "title = driver.find_element(By.CLASS_NAME, 'gsc_oci_title_link').text\n",
    "authors = driver.find_elements(By.CLASS_NAME, 'gsc_oci_value')[0].text\n",
    "date = driver.find_elements(By.CLASS_NAME, 'gsc_oci_value')[1].text\n",
    "journal = driver.find_elements(By.CLASS_NAME, 'gsc_oci_value')[2].text\n",
    "print(title)\n",
    "print(authors)\n",
    "print(date)\n",
    "print(journal)"
   ],
   "metadata": {
    "collapsed": false
   },
   "id": "d60de087a41b23d9"
  },
  {
   "cell_type": "code",
   "execution_count": 86,
   "outputs": [],
   "source": [
    "driver.get(paper_link)"
   ],
   "metadata": {
    "collapsed": false,
    "ExecuteTime": {
     "end_time": "2023-11-18T00:50:33.852261Z",
     "start_time": "2023-11-18T00:50:33.546590Z"
    }
   },
   "id": "9da2829a91303c45"
  },
  {
   "cell_type": "code",
   "execution_count": 99,
   "outputs": [
    {
     "name": "stdout",
     "output_type": "stream",
     "text": [
      "nPoRe: n-polymer realigner for improved pileup-based variant calling\n",
      "Tim Dunn, David Blaauw, Reetuparna Das, Satish Narayanasamy\n",
      "2023/12\n",
      "BMC bioinformatics\n"
     ]
    }
   ],
   "source": [
    "title = driver.find_element(By.CLASS_NAME, 'gsc_oci_title_link').text\n",
    "authors = driver.find_elements(By.CLASS_NAME, 'gsc_oci_value')[0].text\n",
    "date = driver.find_elements(By.CLASS_NAME, 'gsc_oci_value')[1].text\n",
    "journal = driver.find_elements(By.CLASS_NAME, 'gsc_oci_value')[2].text\n",
    "print(title)\n",
    "print(authors)\n",
    "print(date)\n",
    "print(journal)"
   ],
   "metadata": {
    "collapsed": false,
    "ExecuteTime": {
     "end_time": "2023-11-18T00:55:53.625265Z",
     "start_time": "2023-11-18T00:55:53.519145Z"
    }
   },
   "id": "212819f9931941b4"
  },
  {
   "cell_type": "code",
   "execution_count": 100,
   "outputs": [],
   "source": [
    "driver.find_element(By.XPATH, '//*[@id=\"gs_hdr_bck\"]/span[1]').click()"
   ],
   "metadata": {
    "collapsed": false,
    "ExecuteTime": {
     "end_time": "2023-11-18T00:56:36.102294Z",
     "start_time": "2023-11-18T00:56:35.645894Z"
    }
   },
   "id": "51fa1d5b75741ff4"
  },
  {
   "cell_type": "code",
   "execution_count": null,
   "outputs": [],
   "source": [
    "#gsc_a_b > tr:nth-child#gsc_a_b > tr:nth-child(940)"
   ],
   "metadata": {
    "collapsed": false
   },
   "id": "df448b31d6f781b8"
  },
  {
   "cell_type": "code",
   "execution_count": 62,
   "outputs": [],
   "source": [
    "driver.find_elements(By.CLASS_NAME, 'gsc_a_t')[1].get_attribute('a')"
   ],
   "metadata": {
    "collapsed": false,
    "ExecuteTime": {
     "end_time": "2023-11-18T00:40:58.890781Z",
     "start_time": "2023-11-18T00:40:58.854391Z"
    }
   },
   "id": "6a4b3948b1ae8010"
  },
  {
   "cell_type": "code",
   "execution_count": 68,
   "outputs": [
    {
     "data": {
      "text/plain": "'https://scholar.google.com/citations?view_op=view_citation&hl=en&user=P3JdmqAAAAAJ&sortby=pubdate&citation_for_view=P3JdmqAAAAAJ:w_ORaKkuc5QC'"
     },
     "execution_count": 68,
     "metadata": {},
     "output_type": "execute_result"
    }
   ],
   "source": [
    "driver.find_elements(By.CSS_SELECTOR, '#gsc_a_b > tr:nth-child(1) > td.gsc_a_t > a')[0].get_attribute(\"href\")"
   ],
   "metadata": {
    "collapsed": false,
    "ExecuteTime": {
     "end_time": "2023-11-18T00:43:32.809365Z",
     "start_time": "2023-11-18T00:43:32.765782Z"
    }
   },
   "id": "dc41cd9fb9ba357e"
  },
  {
   "cell_type": "code",
   "execution_count": 46,
   "outputs": [],
   "source": [
    "\n",
    "paper_list = driver.find_elements(By.CLASS_NAME, 'gsc_a_tr')"
   ],
   "metadata": {
    "collapsed": false,
    "ExecuteTime": {
     "end_time": "2023-11-18T00:37:48.054563Z",
     "start_time": "2023-11-18T00:37:48.027624Z"
    }
   },
   "id": "83997a7c72e0e6f6"
  },
  {
   "cell_type": "code",
   "execution_count": 50,
   "outputs": [],
   "source": [
    "paper_list[0].click()"
   ],
   "metadata": {
    "collapsed": false,
    "ExecuteTime": {
     "end_time": "2023-11-18T00:39:01.685585Z",
     "start_time": "2023-11-18T00:39:01.630058Z"
    }
   },
   "id": "f16e748e518ef30"
  },
  {
   "cell_type": "code",
   "execution_count": null,
   "outputs": [],
   "source": [],
   "metadata": {
    "collapsed": false
   },
   "id": "87e71de68f972231"
  },
  {
   "cell_type": "code",
   "execution_count": 79,
   "outputs": [
    {
     "name": "stdout",
     "output_type": "stream",
     "text": [
      "Show Everything\n"
     ]
    }
   ],
   "source": [
    "#Show more button\n",
    "\n",
    "while(driver.find_element(By.XPATH, '//*[@id=\"gsc_bpf_more\"]').get_attribute('disabled') == False):\n",
    "    driver.find_element(By.XPATH, '//*[@id=\"gsc_bpf_more\"]').click()\n",
    "    time.sleep(1)\n",
    "print(\"Show Everything\")\n",
    "\n",
    "\n"
   ],
   "metadata": {
    "collapsed": false,
    "ExecuteTime": {
     "end_time": "2023-11-18T00:47:30.019865Z",
     "start_time": "2023-11-18T00:47:29.973837Z"
    }
   },
   "id": "25f590d3d9860cbe"
  },
  {
   "cell_type": "code",
   "execution_count": 77,
   "outputs": [
    {
     "data": {
      "text/plain": "'true'"
     },
     "execution_count": 77,
     "metadata": {},
     "output_type": "execute_result"
    }
   ],
   "source": [
    "driver.find_element(By.XPATH, '//*[@id=\"gsc_bpf_more\"]').get_attribute('disabled')"
   ],
   "metadata": {
    "collapsed": false,
    "ExecuteTime": {
     "end_time": "2023-11-18T00:46:51.051870Z",
     "start_time": "2023-11-18T00:46:51.005589Z"
    }
   },
   "id": "fbdae587afa9b61a"
  },
  {
   "cell_type": "code",
   "execution_count": 9,
   "outputs": [],
   "source": [
    "search_url = driver.find_elements(By.CLASS_NAME, \"gs_rt2\")"
   ],
   "metadata": {
    "collapsed": false,
    "ExecuteTime": {
     "end_time": "2023-11-18T00:27:02.119746Z",
     "start_time": "2023-11-18T00:27:02.095078Z"
    }
   },
   "id": "f332f8b6d43bf6d4"
  },
  {
   "cell_type": "code",
   "execution_count": null,
   "outputs": [],
   "source": [
    "driver.find_element(By.CSS_SELECTOR, \"\")"
   ],
   "metadata": {
    "collapsed": false
   },
   "id": "d7bec822a90487b2"
  },
  {
   "cell_type": "code",
   "execution_count": 31,
   "outputs": [],
   "source": [
    "search_url[0].get_attribute('href')"
   ],
   "metadata": {
    "collapsed": false,
    "ExecuteTime": {
     "end_time": "2023-11-18T00:31:24.591474Z",
     "start_time": "2023-11-18T00:31:24.568011Z"
    }
   },
   "id": "ae75826f27d6cb17"
  },
  {
   "cell_type": "code",
   "execution_count": 44,
   "outputs": [],
   "source": [
    "#links = \"#gs_res_ccl_mid > div:nth-child(1) > table > tbody > tr > td:nth-child(2) > h4 > a\"\n",
    "#search_url = driver.find_elements(By.CSS_SELECTOR, links)\n",
    "#search_url[0].get_attribute(\"href\")\n",
    "\n",
    "\n",
    "#driver.find_element_by_xpath('//*[@id=\"gs_res_ccl_mid\"]/div[1]/table/tbody/tr/td[2]/h4/a').click()\n",
    "driver.find_element(By.XPATH, '//*[@id=\"gs_res_ccl_mid\"]/div[1]/table/tbody/tr/td[2]/h4/a').click()\n",
    "time.sleep(1)\n",
    "driver.find_element(By.XPATH, '//*[@id=\"gsc_a_ha\"]').click()\n"
   ],
   "metadata": {
    "collapsed": false,
    "ExecuteTime": {
     "end_time": "2023-11-18T00:35:31.066048Z",
     "start_time": "2023-11-18T00:35:30.399730Z"
    }
   },
   "id": "ce89e421d84d81f3"
  },
  {
   "cell_type": "code",
   "execution_count": null,
   "outputs": [],
   "source": [
    "\n",
    "\n",
    "\n",
    "#time.sleep(10)\n",
    "\n",
    "#search_url = driver.find_elements(By.CLASS_NAME, \"gs_rt2\")\n",
    "\n",
    "links = \"#gs_res_ccl_mid > div:nth-child(1) > table > tbody > tr > td:nth-child(2) > h4 > a\"\n",
    "\n",
    "search_url = driver.find_elements(By.CSS_SELECTOR, links)\n",
    "\n",
    "print(\"주소: \", search_url.get_attribute(\"href\"))\n",
    "\n",
    "print(\"Hi\")\n",
    "\n",
    "\n",
    "\n",
    "\n",
    "#driver.close()\n",
    "\n"
   ],
   "metadata": {
    "collapsed": false
   },
   "id": "8512707687cf8ca2"
  }
 ],
 "metadata": {
  "kernelspec": {
   "display_name": "Python 3",
   "language": "python",
   "name": "python3"
  },
  "language_info": {
   "codemirror_mode": {
    "name": "ipython",
    "version": 2
   },
   "file_extension": ".py",
   "mimetype": "text/x-python",
   "name": "python",
   "nbconvert_exporter": "python",
   "pygments_lexer": "ipython2",
   "version": "2.7.6"
  }
 },
 "nbformat": 4,
 "nbformat_minor": 5
}
