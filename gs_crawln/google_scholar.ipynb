{
 "cells": [
  {
   "cell_type": "code",
   "execution_count": 2,
   "id": "initial_id",
   "metadata": {
    "collapsed": true,
    "ExecuteTime": {
     "end_time": "2023-11-18T01:29:43.526239Z",
     "start_time": "2023-11-18T01:29:42.476508Z"
    }
   },
   "outputs": [
    {
     "name": "stderr",
     "output_type": "stream",
     "text": [
      "/Users/hyunwonch/PycharmProjects/gs_crawln/venv/lib/python3.9/site-packages/urllib3/__init__.py:34: NotOpenSSLWarning: urllib3 v2 only supports OpenSSL 1.1.1+, currently the 'ssl' module is compiled with 'LibreSSL 2.8.3'. See: https://github.com/urllib3/urllib3/issues/3020\n",
      "  warnings.warn(\n"
     ]
    }
   ],
   "source": [
    "from selenium import webdriver\n",
    "from selenium.webdriver.chrome.options import Options\n",
    "from selenium.webdriver.support.ui import WebDriverWait\n",
    "from selenium.webdriver.support import expected_conditions as EC\n",
    "from selenium.webdriver.common.by import By\n",
    "import pandas as pd\n",
    "import time"
   ]
  },
  {
   "cell_type": "code",
   "execution_count": 22,
   "outputs": [],
   "source": [
    "def get_url(url):\n",
    "    try:\n",
    "        driver.get(url)\n",
    "    except:\n",
    "        driver.close()"
   ],
   "metadata": {
    "collapsed": false,
    "ExecuteTime": {
     "end_time": "2023-11-18T02:33:30.672356Z",
     "start_time": "2023-11-18T02:33:30.664169Z"
    }
   },
   "id": "5aba001bd96334cf"
  },
  {
   "cell_type": "code",
   "execution_count": 28,
   "outputs": [
    {
     "name": "stdout",
     "output_type": "stream",
     "text": [
      "Name : Kuan-Yu Chen umich, Until : 2015\n"
     ]
    }
   ],
   "source": [
    "chrome_options = webdriver.ChromeOptions()\n",
    "chrome_options.add_experimental_option(\"detach\", True)\n",
    "\n",
    "driver = webdriver.Chrome(options=chrome_options)\n",
    "driver.implicitly_wait(10)\n",
    "\n",
    "search_command = \"Kuan-Yu Chen umich\"\n",
    "stop_year = 2015\n",
    "\n",
    "print(f\"Name : {search_command}, Until : {stop_year}\")\n",
    "url = \"https://scholar.google.com/scholar?hl=en&as_sdt=0%2C23&q=\" + search_command + \"&btnG=\"\n",
    "\n",
    "override_url = \"https://scholar.google.com/citations?user=6tBFbCQAAAAJ&hl=en\"\n",
    "override = 0\n",
    "end_signal = 0"
   ],
   "metadata": {
    "collapsed": false,
    "ExecuteTime": {
     "end_time": "2023-11-18T02:36:55.517953Z",
     "start_time": "2023-11-18T02:36:53.563692Z"
    }
   },
   "id": "407eaf8c1e191f7"
  },
  {
   "cell_type": "code",
   "execution_count": 29,
   "outputs": [],
   "source": [
    "if(override):\n",
    "    get_url(override_url)\n",
    "    driver.find_element(By.XPATH, '//*[@id=\"gsc_a_ha\"]').click()\n",
    "    time.sleep(5)\n",
    "else:\n",
    "    get_url(url)\n",
    "    \n",
    "    # Go to actual link that contains list\n",
    "    time.sleep(5)\n",
    "    try:\n",
    "        driver.find_element(By.XPATH, '//*[@id=\"gs_res_ccl_mid\"]/div[1]/table/tbody/tr/td[2]/h4/a').click()\n",
    "        time.sleep(2)\n",
    "        driver.find_element(By.XPATH, '//*[@id=\"gsc_a_ha\"]').click()\n",
    "        time.sleep(5)\n",
    "    except:\n",
    "        try:\n",
    "            driver.find_element(By.XPATH, '//*[@id=\"gs_res_ccl_mid\"]/div[1]/table/tbody/tr/td[2]/div[1]/h4/a').click()\n",
    "            time.sleep(2)\n",
    "            driver.find_element(By.XPATH, '//*[@id=\"gsc_a_ha\"]').click()\n",
    "            time.sleep(5)\n",
    "        except:\n",
    "            driver.close()\n",
    "            end_signal = 1"
   ],
   "metadata": {
    "collapsed": false,
    "ExecuteTime": {
     "end_time": "2023-11-18T02:37:08.926100Z",
     "start_time": "2023-11-18T02:37:03.065534Z"
    }
   },
   "id": "863f4abbf2dd2add"
  },
  {
   "cell_type": "code",
   "execution_count": 31,
   "outputs": [
    {
     "name": "stdout",
     "output_type": "stream",
     "text": [
      "Show Everything\n",
      "Total Length :  15\n",
      "./paper_list/Kuan-Yu Chen umich.txt\n"
     ]
    }
   ],
   "source": [
    "#Show more button\n",
    "while(1):\n",
    "    if(driver.find_element(By.XPATH, '//*[@id=\"gsc_bpf_more\"]').get_attribute('disabled')):\n",
    "        break\n",
    "    driver.find_element(By.XPATH, '//*[@id=\"gsc_bpf_more\"]').click()\n",
    "    time.sleep(1)\n",
    "print(\"Show Everything\")\n",
    "\n",
    "# Get all paper links\n",
    "\n",
    "paper_link_list = []\n",
    "num = 1\n",
    "while(1):\n",
    "    link = '#gsc_a_b > tr:nth-child(' + str(num) + ') > td.gsc_a_t > a'\n",
    "    try:\n",
    "        paper_link = driver.find_elements(By.CSS_SELECTOR, link)[0].get_attribute(\"href\")\n",
    "    except:\n",
    "        break\n",
    "    num += 1\n",
    "    paper_link_list.append(paper_link)\n",
    "\n",
    "len(paper_link_list)\n",
    "#print(paper_link_list[0])\n",
    "\n",
    "# Save the information\n",
    "\n",
    "title_list = []\n",
    "authors_list = []\n",
    "date_list = []\n",
    "journal_list = []\n",
    "\n",
    "\n",
    "\n",
    "for i in paper_link_list:\n",
    "    driver.get(i)\n",
    "    try:\n",
    "        title = driver.find_element(By.CLASS_NAME, 'gsc_oci_title_link').text\n",
    "        authors = driver.find_elements(By.CLASS_NAME, 'gsc_oci_value')[0].text\n",
    "        date = driver.find_elements(By.CLASS_NAME, 'gsc_oci_value')[1].text\n",
    "        journal = driver.find_elements(By.CLASS_NAME, 'gsc_oci_value')[2].text\n",
    "        #print(title)\n",
    "        #print(authors)\n",
    "        #print(date)\n",
    "        #print(journal)\n",
    "        if(date.split('/')[0] == stop_year):\n",
    "            break\n",
    "        title_list.append(title)\n",
    "        authors_list.append(authors)\n",
    "        date_list.append(date)\n",
    "        journal_list.append(journal)\n",
    "        time.sleep(5)\n",
    "    except:\n",
    "        continue\n",
    "driver.close()\n",
    "\n",
    "new_authors_list = []\n",
    "for i in authors_list:\n",
    "    tmp = i.split(\",\")\n",
    "    tmp_list = []\n",
    "    for j in tmp:\n",
    "        tmp_list.append(\"[[\" + j.strip() + \"]]\")\n",
    "    new_authors_list.append(tmp_list)\n",
    "#print(new_authors_list[0])\n",
    "\n",
    "print(\"Total Length : \",len(title_list))\n",
    "\n",
    "\n",
    "file_name = \"./paper_list/\" + search_command + \".txt\"\n",
    "print(file_name)\n",
    "file = open(file_name,'w')\n",
    "\n",
    "for i in range(len(title_list)):\n",
    "    if(journal_list[i] == 'US'):\n",
    "        continue\n",
    "    print(date_list[i], file=file)\n",
    "    print(\"[[\", title_list[i], \"]]\", sep='', file=file)\n",
    "    for index, j in enumerate(new_authors_list[i]):\n",
    "        if(index == (len(new_authors_list[i])-1)):\n",
    "            print(j,\"\", sep='', end='\\n', file=file)\n",
    "        else:\n",
    "            print(j,\", \", sep='', end='', file=file)\n",
    "    print(journal_list[i], file=file)\n",
    "    print('-------------------------------------------------------------------------------------------------------------------------', file=file)\n",
    "\n",
    "file.close()"
   ],
   "metadata": {
    "collapsed": false,
    "ExecuteTime": {
     "end_time": "2023-11-18T02:39:26.236304Z",
     "start_time": "2023-11-18T02:37:57.730949Z"
    }
   },
   "id": "aee64982df15853b"
  }
 ],
 "metadata": {
  "kernelspec": {
   "display_name": "Python 3",
   "language": "python",
   "name": "python3"
  },
  "language_info": {
   "codemirror_mode": {
    "name": "ipython",
    "version": 2
   },
   "file_extension": ".py",
   "mimetype": "text/x-python",
   "name": "python",
   "nbconvert_exporter": "python",
   "pygments_lexer": "ipython2",
   "version": "2.7.6"
  }
 },
 "nbformat": 4,
 "nbformat_minor": 5
}
